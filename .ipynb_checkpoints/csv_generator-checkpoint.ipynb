{
 "cells": [
  {
   "cell_type": "code",
   "execution_count": 1,
   "id": "d1c4c24f-f48b-47e3-beed-3224a0a6aec2",
   "metadata": {},
   "outputs": [
    {
     "data": {
      "text/plain": [
       "'1.24.0'"
      ]
     },
     "execution_count": 1,
     "metadata": {},
     "output_type": "execute_result"
    }
   ],
   "source": [
    "import numpy\n",
    "numpy.__version__"
   ]
  },
  {
   "cell_type": "code",
   "execution_count": null,
   "id": "f4d2e2aa-d750-424e-a730-2e7707306a01",
   "metadata": {},
   "outputs": [
    {
     "name": "stderr",
     "output_type": "stream",
     "text": [
      " 30% |##################################                                                                               |\r"
     ]
    }
   ],
   "source": [
    "# This code is to make *.csv dataset for LSTF from long wav files\n",
    "\n",
    "import os\n",
    "import numpy as np\n",
    "import librosa\n",
    "import csv\n",
    "import datetime\n",
    "import progressbar\n",
    "\n",
    "SR=22050\n",
    "\n",
    "\n",
    "def convert_audio_to_csv(audio_file, output_file):\n",
    "    # Load the audio file\n",
    "    SR = 22050  # Assuming a sample rate of 22050 (replace with your desired value)\n",
    "    y, sr = librosa.load(audio_file, sr=SR, duration=9730)\n",
    "\n",
    "    # Create a progress bar\n",
    "    prog_bar = progressbar.ProgressBar(maxval=len(y))\n",
    "\n",
    "    # Convert the audio to a CSV file\n",
    "    with open(output_file, 'w', newline='') as csvfile:\n",
    "        writer = csv.writer(csvfile, delimiter=',')\n",
    "\n",
    "        # Write the header\n",
    "        writer.writerow(['date', 'waveform'])\n",
    "        prog_bar.start()\n",
    "\n",
    "        # Write the audio data to the CSV file\n",
    "        for i in range(len(y)):\n",
    "            timeframe = i / sr\n",
    "            frame_number = i\n",
    "            time_struct = datetime.timedelta(seconds=timeframe)\n",
    "\n",
    "            # Extract hours, minutes, and seconds directly from the timedelta object\n",
    "            hours, remainder = divmod(time_struct.seconds, 3600)\n",
    "            minutes, seconds = divmod(remainder, 60)\n",
    "            formatted_timeframe = f\"{hours:02d}:{minutes:02d}:{seconds:02d}\"\n",
    "\n",
    "            writer.writerow([formatted_timeframe, y[i]])\n",
    "            prog_bar.update(i + 1)  # Update the progress bar with the current index\n",
    "        \n",
    "        prog_bar.finish()\n",
    "\n",
    "            \n",
    "            \n",
    "# Settings\n",
    "audio_y_file = '/mnt/c/anc/data0213/audio_y.wav' # reverse audio of x2\n",
    "audio_x1_file = '/mnt/c/anc/data0213/audio_x1.wav' # upstream recorded\n",
    "audio_x2_file = '/mnt/c/anc/data0213/audio_x2.wav' # downstream recorded\n",
    "event_file = '/mnt/c/hifi-gan/yolo7_detection/detection_results.txt' # event file(txt file). shape is (: , 4)\n",
    "output_dir = './dataset'\n",
    "dataset_csv = './dataset/audio_x2.csv'\n",
    "teacher_dir = '/mnt/c/hifi-gan/yolo7_detection/noise_speech_data/teacher' # for fine tuning\n",
    "min_length_frames = SR*2 ## 2sec\n",
    "#total_length_frames = 215649000 ## 9780초\n",
    "\n",
    "# Create output directory if it doesn't exist\n",
    "os.makedirs(output_dir, exist_ok=True)\n",
    "\n",
    "# Load the wav file\n",
    "\n",
    "convert_audio_to_csv(audio_x2_file, dataset_csv)\n",
    "\n",
    "\n"
   ]
  }
 ],
 "metadata": {
  "kernelspec": {
   "display_name": "LTSF39",
   "language": "python",
   "name": "ltsf39"
  },
  "language_info": {
   "codemirror_mode": {
    "name": "ipython",
    "version": 3
   },
   "file_extension": ".py",
   "mimetype": "text/x-python",
   "name": "python",
   "nbconvert_exporter": "python",
   "pygments_lexer": "ipython3",
   "version": "3.9.17"
  }
 },
 "nbformat": 4,
 "nbformat_minor": 5
}
